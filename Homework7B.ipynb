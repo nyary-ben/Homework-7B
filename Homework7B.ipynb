{
  "nbformat": 4,
  "nbformat_minor": 0,
  "metadata": {
    "colab": {
      "provenance": [],
      "authorship_tag": "ABX9TyP+//lIZsEOONfHejOzWiAU",
      "include_colab_link": true
    },
    "kernelspec": {
      "name": "python3",
      "display_name": "Python 3"
    },
    "language_info": {
      "name": "python"
    }
  },
  "cells": [
    {
      "cell_type": "markdown",
      "metadata": {
        "id": "view-in-github",
        "colab_type": "text"
      },
      "source": [
        "<a href=\"https://colab.research.google.com/github/nyary-ben/Homework-7B/blob/main/Homework7B.ipynb\" target=\"_parent\"><img src=\"https://colab.research.google.com/assets/colab-badge.svg\" alt=\"Open In Colab\"/></a>"
      ]
    },
    {
      "cell_type": "code",
      "execution_count": 18,
      "metadata": {
        "id": "Wvo170UYdp1A"
      },
      "outputs": [],
      "source": [
        "!pip install whit-phys-util 1>/dev/null"
      ]
    },
    {
      "cell_type": "code",
      "source": [
        "import pandas as pd\n",
        "import matplotlib.pyplot as plt\n",
        "import whit_phys_util as buc\n",
        "import numpy as np\n",
        "from numpy import pi, exp, sqrt\n",
        "from scipy.integrate import quad\n",
        "from scipy.optimize import root_scalar\n",
        "from scipy.optimize import minimize_scalar"
      ],
      "metadata": {
        "id": "FGvTbr9Bd3sG"
      },
      "execution_count": 19,
      "outputs": []
    },
    {
      "cell_type": "code",
      "source": [
        "repo = buc.local_repository(\"https://github.com/nyary-ben/Homework-7B\")"
      ],
      "metadata": {
        "colab": {
          "base_uri": "https://localhost:8080/"
        },
        "id": "44CJsnlreALK",
        "outputId": "69e063f2-8b59-4e84-c5fa-76fafbd1fcae"
      },
      "execution_count": 20,
      "outputs": [
        {
          "output_type": "stream",
          "name": "stdout",
          "text": [
            "Repository exists at this location. Pulling changes from GitHub.\n"
          ]
        }
      ]
    },
    {
      "cell_type": "markdown",
      "source": [
        "## Problem 7.43\n"
      ],
      "metadata": {
        "id": "Cwv_b32meZmd"
      }
    },
    {
      "cell_type": "markdown",
      "source": [
        "### Part b\n",
        "We will integrate the spectrum distribution over the energies at $400$ nm and at $700$ nm.\n",
        "$$u(\\epsilon) = \\frac{8\\pi}{(hc)^3} \\frac{\\epsilon^3}{e^{\\epsilon/kT}-1}$$\n",
        "\n",
        "where $\\epsilon$ = $\\frac{hc}{\\lambda}$.\n",
        "We also know that, $$\\frac{U}{V} = \\int^{\\infty}_{0}u(\\epsilon)d\\epsilon$$ and\n",
        "$$u(\\epsilon)d\\epsilon = a\\frac{x^3}{e^x-1}dx$$ where $x$ = $\\frac{\\epsilon}{kT}$ where $$a = \\frac{8\\pi}{(hc)^3} \\left( kT \\right)^4.$$"
      ],
      "metadata": {
        "id": "eGhwouIOUg-s"
      }
    },
    {
      "cell_type": "code",
      "source": [
        "c = 2.998*10**8 #m/s\n",
        "h = 6.626*10**-34 #J*s\n",
        "k = 1.381*10**-23 #J/K\n",
        "T = 5800 #K\n",
        "V = 1 #m^3\n",
        "a = (8*pi*(h*c)**3)/((k*T)**4)\n",
        "eps400 = h*c/(400*10**-9)\n",
        "eps700 = h*c/(700*10**-9)\n",
        "x4 = eps400/(k*T)\n",
        "x7 = eps700/(k*T)\n",
        "\n",
        "def U(x):\n",
        "  return (x**3)/(np.exp(x)-1)"
      ],
      "metadata": {
        "id": "UA4aFcyVeDKT"
      },
      "execution_count": 21,
      "outputs": []
    },
    {
      "cell_type": "code",
      "source": [
        "x7"
      ],
      "metadata": {
        "colab": {
          "base_uri": "https://localhost:8080/"
        },
        "id": "piubpbNBOo6n",
        "outputId": "e113a338-e0d0-499f-86b4-52f2d365ec21"
      },
      "execution_count": 22,
      "outputs": [
        {
          "output_type": "execute_result",
          "data": {
            "text/plain": [
              "3.5429363315652607"
            ]
          },
          "metadata": {},
          "execution_count": 22
        }
      ]
    },
    {
      "cell_type": "code",
      "source": [
        "result = minimize_scalar(lambda x: -U(x),bounds=(0,100)) # find the maximum by finding the minimum of -v(x)"
      ],
      "metadata": {
        "id": "xPIKSVaeN8vB"
      },
      "execution_count": 23,
      "outputs": []
    },
    {
      "cell_type": "code",
      "source": [
        "Umax = -result.fun"
      ],
      "metadata": {
        "id": "10bQPnlVOFLL"
      },
      "execution_count": 24,
      "outputs": []
    },
    {
      "cell_type": "code",
      "source": [
        "fig1, ax1 = plt.subplots()\n",
        "x_end = 12\n",
        "x = np.linspace(1e-9,x_end,100)\n",
        "ax1.plot(x,U(x)/Umax);\n",
        "ax1.set_xlim(0,x_end); ax1.set_ylim(0,1.1);\n",
        "ax1.fill_between([x7,x4],[9,9],alpha=0.2); #visible wavelengths\n",
        "ax1.set_xlabel(r\"$\\epsilon/kT$\"); ax1.set_ylabel(r\"$u/u_\\mathrm{max}$\");"
      ],
      "metadata": {
        "colab": {
          "base_uri": "https://localhost:8080/",
          "height": 451
        },
        "id": "t9QebAKZOWau",
        "outputId": "ae6bbaed-611c-48d1-9b76-9c9cedbebb6b"
      },
      "execution_count": 25,
      "outputs": [
        {
          "output_type": "display_data",
          "data": {
            "text/plain": [
              "<Figure size 640x480 with 1 Axes>"
            ],
            "image/png": "[encoded data removed]"
          },
          "metadata": {}
        }
      ]
    },
    {
      "cell_type": "markdown",
      "source": [
        "### Part c\n",
        "The portion under the curve and inside the shade area can be found using:\n",
        "$$\\frac{U}{V} = \\int^{\\epsilon_{700nm}}_{\\epsilon_{400nm}}u(\\epsilon)d\\epsilon$$."
      ],
      "metadata": {
        "id": "LwMaStFuPP1_"
      }
    },
    {
      "cell_type": "code",
      "source": [
        "areatotal = quad(lambda x: a*U(x),0,np.inf)"
      ],
      "metadata": {
        "colab": {
          "base_uri": "https://localhost:8080/"
        },
        "id": "Lbrkv7ROUajg",
        "outputId": "9839b101-48cb-4ce4-abee-b797daa54ed2"
      },
      "execution_count": 26,
      "outputs": [
        {
          "output_type": "stream",
          "name": "stderr",
          "text": [
            "<ipython-input-21-671a9f68e225>:13: RuntimeWarning: overflow encountered in exp\n",
            "  return (x**3)/(np.exp(x)-1)\n"
          ]
        }
      ]
    },
    {
      "cell_type": "code",
      "source": [
        "area = quad(lambda x: a*U(x),x7,x4)\n",
        "Totalen = 0.857 #J\n",
        "part = area[0]\n",
        "total = areatotal[0]\n",
        "prob = 100*part/total\n",
        "print(f\"The fraction of that partial energy from the visible spectrum is {prob:.2f} % of the total energy\")"
      ],
      "metadata": {
        "colab": {
          "base_uri": "https://localhost:8080/"
        },
        "id": "DTCOcfazPuyt",
        "outputId": "9abe1200-f826-4ab3-bfea-502cfca15873"
      },
      "execution_count": 27,
      "outputs": [
        {
          "output_type": "stream",
          "name": "stdout",
          "text": [
            "The fraction of that partial energy from the visible spectrum is 36.77 % of the total energy\n"
          ]
        }
      ]
    },
    {
      "cell_type": "markdown",
      "source": [
        "## Problem 7.51"
      ],
      "metadata": {
        "id": "VongiSzGPYGI"
      }
    },
    {
      "cell_type": "markdown",
      "source": [
        "### Part d"
      ],
      "metadata": {
        "id": "DatLKJ_BPahl"
      }
    },
    {
      "cell_type": "code",
      "source": [
        "h1 = 4.136e-15 # in eV*s\n",
        "k1 = 8.617e-5 # in eV/K\n",
        "c1 = 3e14 # in µm/s"
      ],
      "metadata": {
        "id": "to21o8wGPdF_"
      },
      "execution_count": 46,
      "outputs": []
    },
    {
      "cell_type": "code",
      "source": [
        "def w(lam,T):\n",
        "  return (8*pi*h1*c1)/(exp(h1*c1/(lam*k1*T))-1)/lam**5"
      ],
      "metadata": {
        "id": "t234THAaPfUt"
      },
      "execution_count": 45,
      "outputs": []
    },
    {
      "cell_type": "code",
      "source": [
        "fig2, ax2 = plt.subplots()\n",
        "lam_end = 3\n",
        "lam = np.linspace(0.01,lam_end,500)\n",
        "ax2.plot(lam,w(lam,3000));\n",
        "ax2.fill_between([0.4,0.7],[9,9],alpha=0.2) #visible wavelengths\n",
        "ax2.set_xlim(0,lam_end);\n",
        "ax2.set_ylim(0,1);\n",
        "ax2.set_xlabel(r\"$\\lambda$ (µm)\");\n",
        "ax2.set_ylabel(r\"$w$ ($\\mathrm{eV/µm^4}$)\");"
      ],
      "metadata": {
        "colab": {
          "base_uri": "https://localhost:8080/",
          "height": 459
        },
        "id": "8BNJPeJoPzQO",
        "outputId": "2cfffd77-2288-4a39-d4d4-925c59a6277d"
      },
      "execution_count": 48,
      "outputs": [
        {
          "output_type": "display_data",
          "data": {
            "text/plain": [
              "<Figure size 640x480 with 1 Axes>"
            ],
            "image/png": "[encoded data removed]"
          },
          "metadata": {}
        }
      ]
    },
    {
      "cell_type": "markdown",
      "source": [
        "### Part e"
      ],
      "metadata": {
        "id": "o3zS1uKERPCE"
      }
    },
    {
      "cell_type": "markdown",
      "source": [
        "## Problem 7.53"
      ],
      "metadata": {
        "id": "sNOdQsrwxXAh"
      }
    },
    {
      "cell_type": "markdown",
      "source": [
        "### Part e"
      ],
      "metadata": {
        "id": "TSwV3de3xZ2S"
      }
    },
    {
      "cell_type": "code",
      "source": [
        "T = 6.14*10**-8 #K\n",
        "h = 6.626*10**-34 #J*s\n",
        "c = 2.998*10**8 #m/s\n",
        "k = 1.381*10**-23 #J/K\n",
        "UV = 8*pi**5*(k*T)**4/(15*(h*c)**3)\n",
        "UV1 = UV**-1\n",
        "UV1"
      ],
      "metadata": {
        "colab": {
          "base_uri": "https://localhost:8080/"
        },
        "id": "qtAcizR-xb4O",
        "outputId": "0a2be01c-ac89-42d6-f5d7-1488e7539958"
      },
      "execution_count": 28,
      "outputs": [
        {
          "output_type": "execute_result",
          "data": {
            "text/plain": [
              "9.290795264180274e+43"
            ]
          },
          "metadata": {},
          "execution_count": 28
        }
      ]
    }
  ]
}