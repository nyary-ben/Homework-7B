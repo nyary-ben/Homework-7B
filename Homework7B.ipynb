{
  "nbformat": 4,
  "nbformat_minor": 0,
  "metadata": {
    "colab": {
      "provenance": [],
      "authorship_tag": "ABX9TyPGl4592tcfrseyPDZw11b7",
      "include_colab_link": true
    },
    "kernelspec": {
      "name": "python3",
      "display_name": "Python 3"
    },
    "language_info": {
      "name": "python"
    }
  },
  "cells": [
    {
      "cell_type": "markdown",
      "metadata": {
        "id": "view-in-github",
        "colab_type": "text"
      },
      "source": [
        "<a href=\"https://colab.research.google.com/github/nyary-ben/Homework-7B/blob/main/Homework7B.ipynb\" target=\"_parent\"><img src=\"https://colab.research.google.com/assets/colab-badge.svg\" alt=\"Open In Colab\"/></a>"
      ]
    },
    {
      "cell_type": "code",
      "execution_count": 1,
      "metadata": {
        "id": "Wvo170UYdp1A"
      },
      "outputs": [],
      "source": [
        "!pip install whit-phys-util 1>/dev/null"
      ]
    },
    {
      "cell_type": "code",
      "source": [
        "import pandas as pd\n",
        "import matplotlib.pyplot as plt\n",
        "import whit_phys_util as buc\n",
        "import numpy as np\n",
        "from numpy import pi, exp, sqrt\n",
        "from scipy.integrate import quad\n",
        "from scipy.optimize import root_scalar\n",
        "from scipy.optimize import minimize_scalar"
      ],
      "metadata": {
        "id": "FGvTbr9Bd3sG"
      },
      "execution_count": 7,
      "outputs": []
    },
    {
      "cell_type": "code",
      "source": [
        "repo = buc.local_repository(\"https://github.com/nyary-ben/Homework-7B\")"
      ],
      "metadata": {
        "colab": {
          "base_uri": "https://localhost:8080/"
        },
        "id": "44CJsnlreALK",
        "outputId": "72a53de8-ec23-4095-9456-804c8c658261"
      },
      "execution_count": 3,
      "outputs": [
        {
          "output_type": "stream",
          "name": "stdout",
          "text": [
            "Cloning repository from GitHub.\n"
          ]
        }
      ]
    },
    {
      "cell_type": "markdown",
      "source": [
        "## Problem 7.43\n"
      ],
      "metadata": {
        "id": "Cwv_b32meZmd"
      }
    },
    {
      "cell_type": "markdown",
      "source": [
        "### Part b\n",
        "We will integrate the spectrum distribution over the energies at $400$ nm and at $700$ nm.\n",
        "$$u(\\epsilon) = \\frac{8\\pi}{(hc)^3} \\frac{\\epsilon^3}{e^{\\epsilon/kT}-1}$$\n",
        "\n",
        "where $\\epsilon$ = $\\frac{hc}{\\lambda}$.\n",
        "We also know that, $$\\frac{U}{V} = \\int^{\\infty}_{0}u(\\epsilon)d\\epsilon$$ and\n",
        "$$u(\\epsilon)d\\epsilon = a\\frac{x^3}{e^x-1}dx$$ where $x$ = $\\frac{\\epsilon}{kT}$ where $$a = \\frac{8\\pi}{(hc)^3} \\left( kT \\right)^4.$$"
      ],
      "metadata": {
        "id": "eGhwouIOUg-s"
      }
    },
    {
      "cell_type": "code",
      "source": [
        "c = 2.998*10**8 #m/s\n",
        "h = 6.626*10**-34 #J*s\n",
        "k = 1.381*10**-23 #J/K\n",
        "T = 5800 #K\n",
        "V = 1 #m^3\n",
        "a = (8*pi*(h*c)**3)/((k*T)**4)\n",
        "eps400 = h*c/(400*10**-9)\n",
        "eps700 = h*c/(700*10**-9)\n",
        "x4 = eps400/(k*T)\n",
        "x7 = eps700/(k*T)\n",
        "\n",
        "def U(x):\n",
        "  return (x**3)/(np.exp(x)-1)"
      ],
      "metadata": {
        "id": "UA4aFcyVeDKT"
      },
      "execution_count": 42,
      "outputs": []
    },
    {
      "cell_type": "code",
      "source": [
        "x7"
      ],
      "metadata": {
        "colab": {
          "base_uri": "https://localhost:8080/"
        },
        "id": "piubpbNBOo6n",
        "outputId": "c34ecf5d-9a69-4c58-d495-1fffd6ac98a7"
      },
      "execution_count": 43,
      "outputs": [
        {
          "output_type": "execute_result",
          "data": {
            "text/plain": [
              "3.5429363315652607"
            ]
          },
          "metadata": {},
          "execution_count": 43
        }
      ]
    },
    {
      "cell_type": "code",
      "source": [
        "result = minimize_scalar(lambda x: -U(x),bounds=(0,100)) # find the maximum by finding the minimum of -v(x)"
      ],
      "metadata": {
        "id": "xPIKSVaeN8vB"
      },
      "execution_count": 44,
      "outputs": []
    },
    {
      "cell_type": "code",
      "source": [
        "Umax = -result.fun"
      ],
      "metadata": {
        "id": "10bQPnlVOFLL"
      },
      "execution_count": 45,
      "outputs": []
    },
    {
      "cell_type": "code",
      "source": [
        "fig1, ax1 = plt.subplots()\n",
        "x_end = 12\n",
        "x = np.linspace(1e-9,x_end,100)\n",
        "ax1.plot(x,U(x)/Umax);\n",
        "ax1.set_xlim(0,x_end); ax1.set_ylim(0,1.1);\n",
        "ax1.fill_between([x7,x4],[9,9],alpha=0.2);\n",
        "ax1.set_xlabel(r\"$\\epsilon/kT$\"); ax1.set_ylabel(r\"$u/u_\\mathrm{max}$\");"
      ],
      "metadata": {
        "colab": {
          "base_uri": "https://localhost:8080/",
          "height": 451
        },
        "id": "t9QebAKZOWau",
        "outputId": "a0a479a7-e8e9-4956-adae-97a7b83027fd"
      },
      "execution_count": 46,
      "outputs": [
        {
          "output_type": "display_data",
          "data": {
            "text/plain": [
              "<Figure size 640x480 with 1 Axes>"
            ],
            "image/png": "[encoded data removed]"
          },
          "metadata": {}
        }
      ]
    },
    {
      "cell_type": "markdown",
      "source": [
        "### Part c\n",
        "The portion under the curve and inside the shade area can be found using:\n",
        "$$\\frac{U}{V} = \\int^{\\epsilon_{700nm}}_{\\epsilon_{400nm}}u(\\epsilon)d\\epsilon$$."
      ],
      "metadata": {
        "id": "LwMaStFuPP1_"
      }
    },
    {
      "cell_type": "code",
      "source": [
        "areatotal = quad(lambda x: a*U(x),0,np.inf)"
      ],
      "metadata": {
        "colab": {
          "base_uri": "https://localhost:8080/"
        },
        "id": "Lbrkv7ROUajg",
        "outputId": "22ef79f1-787f-4719-bb16-3bcfc063c51b"
      },
      "execution_count": 63,
      "outputs": [
        {
          "output_type": "stream",
          "name": "stderr",
          "text": [
            "<ipython-input-42-671a9f68e225>:13: RuntimeWarning: overflow encountered in exp\n",
            "  return (x**3)/(np.exp(x)-1)\n"
          ]
        }
      ]
    },
    {
      "cell_type": "code",
      "source": [
        "area = quad(lambda x: a*U(x),x7,x4)\n",
        "Totalen = 0.857 #J\n",
        "part = area[0]\n",
        "total = areatotal[0]\n",
        "prob = 100*part/total\n",
        "print(f\"The fraction of that partial energy from the visible spectrum is {prob:.2f} % of the total energy\")"
      ],
      "metadata": {
        "colab": {
          "base_uri": "https://localhost:8080/"
        },
        "id": "DTCOcfazPuyt",
        "outputId": "4282d548-8068-4d9c-c632-b3fd57e4c07e"
      },
      "execution_count": 64,
      "outputs": [
        {
          "output_type": "stream",
          "name": "stdout",
          "text": [
            "The fraction of that partial energy from the visible spectrum is 36.77 % of the total energy\n"
          ]
        }
      ]
    }
  ]
}